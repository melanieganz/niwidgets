{
 "cells": [
  {
   "cell_type": "markdown",
   "metadata": {},
   "source": [
    "# Interactive Surface Visualization Demo Notebook\n",
    "\n",
    "    developed by Murat Bilgel, Benjamin Ely, Melanie Ganz, Krisanne Litinas, and Andrea Shafer\n",
    "    Heavily indebted to Satra Ghosh, Chris Holdgraf, Anisha Keshavan, and Tal Yarkoni\n",
    "    Builds on niwidgets\n",
    "\n"
   ]
  },
  {
   "cell_type": "code",
   "execution_count": 1,
   "metadata": {
    "collapsed": true
   },
   "outputs": [],
   "source": [
    "%matplotlib inline\n",
    "import os\n",
    "import sys\n",
    "from niwidgets import niwidget_surface"
   ]
  },
  {
   "cell_type": "code",
   "execution_count": 2,
   "metadata": {
    "collapsed": true
   },
   "outputs": [],
   "source": [
    "# add an environment variable for where the notebook is e.g. by adding\n",
    "# 'export NHW=$HOME/Desktop/niwidgets' to ~/.bashrc\n",
    "data = os.environ['NHW'] "
   ]
  },
  {
   "cell_type": "code",
   "execution_count": 3,
   "metadata": {},
   "outputs": [
    {
     "name": "stdout",
     "output_type": "stream",
     "text": [
      "C:/Users/spn486/Desktop/NeuroHackWeek2017/nipy_niwidgets/niwidgets/data/example_surfaces/surf/lh.inflated\n"
     ]
    }
   ],
   "source": [
    "# Verify that your variable is pointing to the right place where you have decided to store your package data\n",
    "print(data+'/niwidgets/data/example_surfaces/surf/lh.inflated')"
   ]
  },
  {
   "cell_type": "code",
   "execution_count": 4,
   "metadata": {},
   "outputs": [
    {
     "data": {
      "application/vnd.jupyter.widget-view+json": {
       "model_id": "dc9921f060584387b462f99f39833a13",
       "version_major": 2,
       "version_minor": 0
      },
      "text/plain": [
       "A Jupyter Widget"
      ]
     },
     "metadata": {},
     "output_type": "display_data"
    },
    {
     "data": {
      "application/vnd.jupyter.widget-view+json": {
       "model_id": "e7ea0689de984f46b12eaf1fcbfa20c7",
       "version_major": 2,
       "version_minor": 0
      },
      "text/plain": [
       "A Jupyter Widget"
      ]
     },
     "metadata": {},
     "output_type": "display_data"
    }
   ],
   "source": [
    "# example surface data from FreeSurfer:\n",
    "\n",
    "# inflated surface\n",
    "meshfile_lh_inflated = data+'/niwidgets/data/example_surfaces/surf/lh.inflated'\n",
    "\n",
    "# curvature, cortical thickness and cortical area as well as a parcellation overlay file\n",
    "overlayfiles_lh = [data+'/niwidgets/data/example_surfaces/surf/lh.thickness',\n",
    "                   data+'/niwidgets/data/example_surfaces/surf/lh.curv',\n",
    "                   data+'/niwidgets/data/example_surfaces/surf/lh.area',\n",
    "                   data+'/niwidgets/data/example_surfaces/surf/lh.aparc.annot']\n",
    "\n",
    "# how to call the surface widget\n",
    "sw = niwidget_surface.SurfaceWidget(meshfile=meshfile_lh_inflated,overlayfiles = overlayfiles_lh)\n",
    "sw.surface_plotter()\n",
    "sw.fig"
   ]
  }
 ],
 "metadata": {
  "kernelspec": {
   "display_name": "Python 3",
   "language": "python",
   "name": "python3"
  },
  "language_info": {
   "codemirror_mode": {
    "name": "ipython",
    "version": 3
   },
   "file_extension": ".py",
   "mimetype": "text/x-python",
   "name": "python",
   "nbconvert_exporter": "python",
   "pygments_lexer": "ipython3",
   "version": "3.6.1"
  }
 },
 "nbformat": 4,
 "nbformat_minor": 2
}
